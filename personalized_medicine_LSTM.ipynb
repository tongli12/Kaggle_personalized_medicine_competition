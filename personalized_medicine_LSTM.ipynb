{
 "cells": [
  {
   "cell_type": "code",
   "execution_count": 71,
   "metadata": {
    "collapsed": true
   },
   "outputs": [],
   "source": [
    "import pandas as pd\n",
    "import numpy as np\n",
    "import pickle\n",
    "import nltk\n",
    "from nltk.tokenize import sent_tokenize, word_tokenize\n",
    "from keras.preprocessing.text import Tokenizer\n",
    "\n",
    "from keras.layers import LSTM\n",
    "from keras.utils.vis_utils import plot_model as plot\n",
    "from keras.callbacks import TensorBoard, ModelCheckpoint\n",
    "from keras.preprocessing.text import Tokenizer\n",
    "from keras.preprocessing import sequence\n",
    "from keras.utils.np_utils import to_categorical\n",
    "from keras.models import load_model\n",
    "import matplotlib.pyplot as plt\n",
    "\n",
    "%matplotlib inline"
   ]
  },
  {
   "cell_type": "code",
   "execution_count": 72,
   "metadata": {},
   "outputs": [
    {
     "name": "stdout",
     "output_type": "stream",
     "text": [
      "9 _class_real_labels.docx  test_text\t  training_text\r\n",
      "submissionFile\t\t   test_variants  training_variants\r\n"
     ]
    }
   ],
   "source": [
    "!ls ../input"
   ]
  },
  {
   "cell_type": "code",
   "execution_count": 73,
   "metadata": {
    "collapsed": true
   },
   "outputs": [],
   "source": [
    "train_df = pd.read_csv('../input/training_variants')\n",
    "test_df = pd.read_csv('../input/test_variants')\n",
    "train_text_df = pd.read_csv('../input/training_text', sep='\\|\\|', engine='python', header=None, skiprows=1, names=['ID', 'Text'], encoding='utf-8')\n",
    "test_text_df = pd.read_csv('../input/test_text', sep='\\|\\|', engine='python', header=None, skiprows=1, names=['ID', 'Text'],  encoding='utf-8')"
   ]
  },
  {
   "cell_type": "code",
   "execution_count": 75,
   "metadata": {},
   "outputs": [
    {
     "data": {
      "text/html": [
       "<div>\n",
       "<style>\n",
       "    .dataframe thead tr:only-child th {\n",
       "        text-align: right;\n",
       "    }\n",
       "\n",
       "    .dataframe thead th {\n",
       "        text-align: left;\n",
       "    }\n",
       "\n",
       "    .dataframe tbody tr th {\n",
       "        vertical-align: top;\n",
       "    }\n",
       "</style>\n",
       "<table border=\"1\" class=\"dataframe\">\n",
       "  <thead>\n",
       "    <tr style=\"text-align: right;\">\n",
       "      <th></th>\n",
       "      <th>ID</th>\n",
       "      <th>Gene</th>\n",
       "      <th>Variation</th>\n",
       "      <th>Class</th>\n",
       "    </tr>\n",
       "  </thead>\n",
       "  <tbody>\n",
       "    <tr>\n",
       "      <th>0</th>\n",
       "      <td>0</td>\n",
       "      <td>FAM58A</td>\n",
       "      <td>Truncating Mutations</td>\n",
       "      <td>1</td>\n",
       "    </tr>\n",
       "    <tr>\n",
       "      <th>1</th>\n",
       "      <td>1</td>\n",
       "      <td>CBL</td>\n",
       "      <td>W802*</td>\n",
       "      <td>2</td>\n",
       "    </tr>\n",
       "    <tr>\n",
       "      <th>2</th>\n",
       "      <td>2</td>\n",
       "      <td>CBL</td>\n",
       "      <td>Q249E</td>\n",
       "      <td>2</td>\n",
       "    </tr>\n",
       "    <tr>\n",
       "      <th>3</th>\n",
       "      <td>3</td>\n",
       "      <td>CBL</td>\n",
       "      <td>N454D</td>\n",
       "      <td>3</td>\n",
       "    </tr>\n",
       "    <tr>\n",
       "      <th>4</th>\n",
       "      <td>4</td>\n",
       "      <td>CBL</td>\n",
       "      <td>L399V</td>\n",
       "      <td>4</td>\n",
       "    </tr>\n",
       "  </tbody>\n",
       "</table>\n",
       "</div>"
      ],
      "text/plain": [
       "   ID    Gene             Variation  Class\n",
       "0   0  FAM58A  Truncating Mutations      1\n",
       "1   1     CBL                 W802*      2\n",
       "2   2     CBL                 Q249E      2\n",
       "3   3     CBL                 N454D      3\n",
       "4   4     CBL                 L399V      4"
      ]
     },
     "execution_count": 75,
     "metadata": {},
     "output_type": "execute_result"
    }
   ],
   "source": [
    "train_df.head()"
   ]
  },
  {
   "cell_type": "code",
   "execution_count": 76,
   "metadata": {},
   "outputs": [
    {
     "data": {
      "text/html": [
       "<div>\n",
       "<style>\n",
       "    .dataframe thead tr:only-child th {\n",
       "        text-align: right;\n",
       "    }\n",
       "\n",
       "    .dataframe thead th {\n",
       "        text-align: left;\n",
       "    }\n",
       "\n",
       "    .dataframe tbody tr th {\n",
       "        vertical-align: top;\n",
       "    }\n",
       "</style>\n",
       "<table border=\"1\" class=\"dataframe\">\n",
       "  <thead>\n",
       "    <tr style=\"text-align: right;\">\n",
       "      <th></th>\n",
       "      <th>ID</th>\n",
       "      <th>Gene</th>\n",
       "      <th>Variation</th>\n",
       "    </tr>\n",
       "  </thead>\n",
       "  <tbody>\n",
       "    <tr>\n",
       "      <th>0</th>\n",
       "      <td>0</td>\n",
       "      <td>ACSL4</td>\n",
       "      <td>R570S</td>\n",
       "    </tr>\n",
       "    <tr>\n",
       "      <th>1</th>\n",
       "      <td>1</td>\n",
       "      <td>NAGLU</td>\n",
       "      <td>P521L</td>\n",
       "    </tr>\n",
       "    <tr>\n",
       "      <th>2</th>\n",
       "      <td>2</td>\n",
       "      <td>PAH</td>\n",
       "      <td>L333F</td>\n",
       "    </tr>\n",
       "    <tr>\n",
       "      <th>3</th>\n",
       "      <td>3</td>\n",
       "      <td>ING1</td>\n",
       "      <td>A148D</td>\n",
       "    </tr>\n",
       "    <tr>\n",
       "      <th>4</th>\n",
       "      <td>4</td>\n",
       "      <td>TMEM216</td>\n",
       "      <td>G77A</td>\n",
       "    </tr>\n",
       "  </tbody>\n",
       "</table>\n",
       "</div>"
      ],
      "text/plain": [
       "   ID     Gene Variation\n",
       "0   0    ACSL4     R570S\n",
       "1   1    NAGLU     P521L\n",
       "2   2      PAH     L333F\n",
       "3   3     ING1     A148D\n",
       "4   4  TMEM216      G77A"
      ]
     },
     "execution_count": 76,
     "metadata": {},
     "output_type": "execute_result"
    }
   ],
   "source": [
    "test_df.head()"
   ]
  },
  {
   "cell_type": "code",
   "execution_count": 77,
   "metadata": {},
   "outputs": [
    {
     "data": {
      "text/html": [
       "<div>\n",
       "<style>\n",
       "    .dataframe thead tr:only-child th {\n",
       "        text-align: right;\n",
       "    }\n",
       "\n",
       "    .dataframe thead th {\n",
       "        text-align: left;\n",
       "    }\n",
       "\n",
       "    .dataframe tbody tr th {\n",
       "        vertical-align: top;\n",
       "    }\n",
       "</style>\n",
       "<table border=\"1\" class=\"dataframe\">\n",
       "  <thead>\n",
       "    <tr style=\"text-align: right;\">\n",
       "      <th></th>\n",
       "      <th>ID</th>\n",
       "      <th>Text</th>\n",
       "    </tr>\n",
       "  </thead>\n",
       "  <tbody>\n",
       "    <tr>\n",
       "      <th>0</th>\n",
       "      <td>0</td>\n",
       "      <td>Cyclin-dependent kinases (CDKs) regulate a var...</td>\n",
       "    </tr>\n",
       "    <tr>\n",
       "      <th>1</th>\n",
       "      <td>1</td>\n",
       "      <td>Abstract Background  Non-small cell lung canc...</td>\n",
       "    </tr>\n",
       "    <tr>\n",
       "      <th>2</th>\n",
       "      <td>2</td>\n",
       "      <td>Abstract Background  Non-small cell lung canc...</td>\n",
       "    </tr>\n",
       "    <tr>\n",
       "      <th>3</th>\n",
       "      <td>3</td>\n",
       "      <td>Recent evidence has demonstrated that acquired...</td>\n",
       "    </tr>\n",
       "    <tr>\n",
       "      <th>4</th>\n",
       "      <td>4</td>\n",
       "      <td>Oncogenic mutations in the monomeric Casitas B...</td>\n",
       "    </tr>\n",
       "  </tbody>\n",
       "</table>\n",
       "</div>"
      ],
      "text/plain": [
       "   ID                                               Text\n",
       "0   0  Cyclin-dependent kinases (CDKs) regulate a var...\n",
       "1   1   Abstract Background  Non-small cell lung canc...\n",
       "2   2   Abstract Background  Non-small cell lung canc...\n",
       "3   3  Recent evidence has demonstrated that acquired...\n",
       "4   4  Oncogenic mutations in the monomeric Casitas B..."
      ]
     },
     "execution_count": 77,
     "metadata": {},
     "output_type": "execute_result"
    }
   ],
   "source": [
    "train_text_df.head()"
   ]
  },
  {
   "cell_type": "code",
   "execution_count": 78,
   "metadata": {
    "collapsed": true
   },
   "outputs": [],
   "source": [
    "train = pd.merge(train_df, train_text_df, on='ID', how='inner')\n",
    "test = pd.merge(test_df, test_text_df, on='ID', how='inner')"
   ]
  },
  {
   "cell_type": "code",
   "execution_count": 79,
   "metadata": {},
   "outputs": [
    {
     "data": {
      "text/html": [
       "<div>\n",
       "<style>\n",
       "    .dataframe thead tr:only-child th {\n",
       "        text-align: right;\n",
       "    }\n",
       "\n",
       "    .dataframe thead th {\n",
       "        text-align: left;\n",
       "    }\n",
       "\n",
       "    .dataframe tbody tr th {\n",
       "        vertical-align: top;\n",
       "    }\n",
       "</style>\n",
       "<table border=\"1\" class=\"dataframe\">\n",
       "  <thead>\n",
       "    <tr style=\"text-align: right;\">\n",
       "      <th></th>\n",
       "      <th>ID</th>\n",
       "      <th>Gene</th>\n",
       "      <th>Variation</th>\n",
       "      <th>Text</th>\n",
       "    </tr>\n",
       "  </thead>\n",
       "  <tbody>\n",
       "    <tr>\n",
       "      <th>0</th>\n",
       "      <td>0</td>\n",
       "      <td>ACSL4</td>\n",
       "      <td>R570S</td>\n",
       "      <td>2. This mutation resulted in a myeloproliferat...</td>\n",
       "    </tr>\n",
       "    <tr>\n",
       "      <th>1</th>\n",
       "      <td>1</td>\n",
       "      <td>NAGLU</td>\n",
       "      <td>P521L</td>\n",
       "      <td>Abstract The Large Tumor Suppressor 1 (LATS1)...</td>\n",
       "    </tr>\n",
       "    <tr>\n",
       "      <th>2</th>\n",
       "      <td>2</td>\n",
       "      <td>PAH</td>\n",
       "      <td>L333F</td>\n",
       "      <td>Vascular endothelial growth factor receptor (V...</td>\n",
       "    </tr>\n",
       "    <tr>\n",
       "      <th>3</th>\n",
       "      <td>3</td>\n",
       "      <td>ING1</td>\n",
       "      <td>A148D</td>\n",
       "      <td>Inflammatory myofibroblastic tumor (IMT) is a ...</td>\n",
       "    </tr>\n",
       "    <tr>\n",
       "      <th>4</th>\n",
       "      <td>4</td>\n",
       "      <td>TMEM216</td>\n",
       "      <td>G77A</td>\n",
       "      <td>Abstract Retinoblastoma is a pediatric retina...</td>\n",
       "    </tr>\n",
       "  </tbody>\n",
       "</table>\n",
       "</div>"
      ],
      "text/plain": [
       "   ID     Gene Variation                                               Text\n",
       "0   0    ACSL4     R570S  2. This mutation resulted in a myeloproliferat...\n",
       "1   1    NAGLU     P521L   Abstract The Large Tumor Suppressor 1 (LATS1)...\n",
       "2   2      PAH     L333F  Vascular endothelial growth factor receptor (V...\n",
       "3   3     ING1     A148D  Inflammatory myofibroblastic tumor (IMT) is a ...\n",
       "4   4  TMEM216      G77A   Abstract Retinoblastoma is a pediatric retina..."
      ]
     },
     "execution_count": 79,
     "metadata": {},
     "output_type": "execute_result"
    }
   ],
   "source": [
    "test.head()"
   ]
  },
  {
   "cell_type": "code",
   "execution_count": 80,
   "metadata": {
    "collapsed": true
   },
   "outputs": [],
   "source": [
    "total = pd.concat([train, test], ignore_index=True)"
   ]
  },
  {
   "cell_type": "code",
   "execution_count": 81,
   "metadata": {},
   "outputs": [
    {
     "data": {
      "text/html": [
       "<div>\n",
       "<style>\n",
       "    .dataframe thead tr:only-child th {\n",
       "        text-align: right;\n",
       "    }\n",
       "\n",
       "    .dataframe thead th {\n",
       "        text-align: left;\n",
       "    }\n",
       "\n",
       "    .dataframe tbody tr th {\n",
       "        vertical-align: top;\n",
       "    }\n",
       "</style>\n",
       "<table border=\"1\" class=\"dataframe\">\n",
       "  <thead>\n",
       "    <tr style=\"text-align: right;\">\n",
       "      <th></th>\n",
       "      <th>Class</th>\n",
       "      <th>Gene</th>\n",
       "      <th>ID</th>\n",
       "      <th>Text</th>\n",
       "      <th>Variation</th>\n",
       "    </tr>\n",
       "  </thead>\n",
       "  <tbody>\n",
       "    <tr>\n",
       "      <th>0</th>\n",
       "      <td>1.0</td>\n",
       "      <td>FAM58A</td>\n",
       "      <td>0</td>\n",
       "      <td>Cyclin-dependent kinases (CDKs) regulate a var...</td>\n",
       "      <td>Truncating Mutations</td>\n",
       "    </tr>\n",
       "    <tr>\n",
       "      <th>1</th>\n",
       "      <td>2.0</td>\n",
       "      <td>CBL</td>\n",
       "      <td>1</td>\n",
       "      <td>Abstract Background  Non-small cell lung canc...</td>\n",
       "      <td>W802*</td>\n",
       "    </tr>\n",
       "    <tr>\n",
       "      <th>2</th>\n",
       "      <td>2.0</td>\n",
       "      <td>CBL</td>\n",
       "      <td>2</td>\n",
       "      <td>Abstract Background  Non-small cell lung canc...</td>\n",
       "      <td>Q249E</td>\n",
       "    </tr>\n",
       "    <tr>\n",
       "      <th>3</th>\n",
       "      <td>3.0</td>\n",
       "      <td>CBL</td>\n",
       "      <td>3</td>\n",
       "      <td>Recent evidence has demonstrated that acquired...</td>\n",
       "      <td>N454D</td>\n",
       "    </tr>\n",
       "    <tr>\n",
       "      <th>4</th>\n",
       "      <td>4.0</td>\n",
       "      <td>CBL</td>\n",
       "      <td>4</td>\n",
       "      <td>Oncogenic mutations in the monomeric Casitas B...</td>\n",
       "      <td>L399V</td>\n",
       "    </tr>\n",
       "  </tbody>\n",
       "</table>\n",
       "</div>"
      ],
      "text/plain": [
       "   Class    Gene  ID                                               Text  \\\n",
       "0    1.0  FAM58A   0  Cyclin-dependent kinases (CDKs) regulate a var...   \n",
       "1    2.0     CBL   1   Abstract Background  Non-small cell lung canc...   \n",
       "2    2.0     CBL   2   Abstract Background  Non-small cell lung canc...   \n",
       "3    3.0     CBL   3  Recent evidence has demonstrated that acquired...   \n",
       "4    4.0     CBL   4  Oncogenic mutations in the monomeric Casitas B...   \n",
       "\n",
       "              Variation  \n",
       "0  Truncating Mutations  \n",
       "1                 W802*  \n",
       "2                 Q249E  \n",
       "3                 N454D  \n",
       "4                 L399V  "
      ]
     },
     "execution_count": 81,
     "metadata": {},
     "output_type": "execute_result"
    }
   ],
   "source": [
    "total.head()"
   ]
  },
  {
   "cell_type": "code",
   "execution_count": 82,
   "metadata": {},
   "outputs": [
    {
     "data": {
      "text/html": [
       "<div>\n",
       "<style>\n",
       "    .dataframe thead tr:only-child th {\n",
       "        text-align: right;\n",
       "    }\n",
       "\n",
       "    .dataframe thead th {\n",
       "        text-align: left;\n",
       "    }\n",
       "\n",
       "    .dataframe tbody tr th {\n",
       "        vertical-align: top;\n",
       "    }\n",
       "</style>\n",
       "<table border=\"1\" class=\"dataframe\">\n",
       "  <thead>\n",
       "    <tr style=\"text-align: right;\">\n",
       "      <th></th>\n",
       "      <th>Class</th>\n",
       "      <th>Gene</th>\n",
       "      <th>ID</th>\n",
       "      <th>Text</th>\n",
       "      <th>Variation</th>\n",
       "    </tr>\n",
       "  </thead>\n",
       "  <tbody>\n",
       "    <tr>\n",
       "      <th>8984</th>\n",
       "      <td>NaN</td>\n",
       "      <td>SLC46A1</td>\n",
       "      <td>5663</td>\n",
       "      <td>The realization in the late 1970s that RAS har...</td>\n",
       "      <td>R113S</td>\n",
       "    </tr>\n",
       "    <tr>\n",
       "      <th>8985</th>\n",
       "      <td>NaN</td>\n",
       "      <td>FOXC1</td>\n",
       "      <td>5664</td>\n",
       "      <td>Hemizygous deletions are common molecular abno...</td>\n",
       "      <td>L130F</td>\n",
       "    </tr>\n",
       "    <tr>\n",
       "      <th>8986</th>\n",
       "      <td>NaN</td>\n",
       "      <td>GSS</td>\n",
       "      <td>5665</td>\n",
       "      <td>All most R267W of has with to SMARTpool invest...</td>\n",
       "      <td>R267W</td>\n",
       "    </tr>\n",
       "    <tr>\n",
       "      <th>8987</th>\n",
       "      <td>NaN</td>\n",
       "      <td>CTSK</td>\n",
       "      <td>5666</td>\n",
       "      <td>Abstract Blood samples from 125 unrelated fami...</td>\n",
       "      <td>G79E</td>\n",
       "    </tr>\n",
       "    <tr>\n",
       "      <th>8988</th>\n",
       "      <td>NaN</td>\n",
       "      <td>DFNB59</td>\n",
       "      <td>5667</td>\n",
       "      <td>Loss of DNA mismatch repair (MMR) in humans, m...</td>\n",
       "      <td>T54I</td>\n",
       "    </tr>\n",
       "  </tbody>\n",
       "</table>\n",
       "</div>"
      ],
      "text/plain": [
       "      Class     Gene    ID                                               Text  \\\n",
       "8984    NaN  SLC46A1  5663  The realization in the late 1970s that RAS har...   \n",
       "8985    NaN    FOXC1  5664  Hemizygous deletions are common molecular abno...   \n",
       "8986    NaN      GSS  5665  All most R267W of has with to SMARTpool invest...   \n",
       "8987    NaN     CTSK  5666  Abstract Blood samples from 125 unrelated fami...   \n",
       "8988    NaN   DFNB59  5667  Loss of DNA mismatch repair (MMR) in humans, m...   \n",
       "\n",
       "     Variation  \n",
       "8984     R113S  \n",
       "8985     L130F  \n",
       "8986     R267W  \n",
       "8987      G79E  \n",
       "8988      T54I  "
      ]
     },
     "execution_count": 82,
     "metadata": {},
     "output_type": "execute_result"
    }
   ],
   "source": [
    "total.tail()"
   ]
  },
  {
   "cell_type": "code",
   "execution_count": 83,
   "metadata": {
    "collapsed": true
   },
   "outputs": [],
   "source": [
    "# Replace the Text clolumn with the sentences with those only include the correponding Variation value\n",
    "# Note: Some variations are represend by the 3-letter code in the text like Y371S (Tyr371Ser)\n",
    "\n",
    "amino_acids = {'a': 'ala', 'r': 'arg', 'n': 'asn', 'd': 'asp', 'c': 'cys', 'q': 'gln', 'e':'glu', 'g': 'gly',\\\n",
    "               'h': 'his', 'i': 'ile', 'l': 'leu', 'k': 'lys', 'm': 'met', 'f': 'phe', 'p':'pro', 's': 'ser', \\\n",
    "               't': 'thr', 'w': 'trp', 'y': 'tyr', 'v': 'val'}\n",
    "\n",
    "def convert_three_letters(s):\n",
    "    \"\"\"Convert one-letter amino aicd mutations to three-letter: Y371S to tyr371ser\n",
    "    \"\"\"\n",
    "    s = list(s.lower())\n",
    "    if s[0] in amino_acids and s[-1] in amino_acids:\n",
    "        s[0] = amino_acids[s[0]]\n",
    "        s[-1] = amino_acids[s[-1]]\n",
    "    \n",
    "    return ''.join(s)\n",
    "\n",
    "def extract_relevant_sentences(text, variation):\n",
    "    \"\"\"Extract relevant sentences from the text\n",
    "       Relevant sentences: 1. Sentences include the Variation name\n",
    "                          2.\n",
    "                          3. If not 1, inlcude the word 'mutation'\n",
    "                          4. \n",
    "                          5. If not 1, 2 and 3, use the full text\n",
    "       text: input string\n",
    "       variation: gene variation name\n",
    "       \n",
    "       return: a list of relevant sentences\n",
    "    \"\"\"\n",
    "    \n",
    "    sentenses = []\n",
    "    text = ''.join([i if ord(i) < 128 else ' ' for i in text])\n",
    "   \n",
    "    for s in sent_tokenize(text): \n",
    "      \n",
    "        if variation in s or variation[1:-1] in s or 'mutation' in s.lower() or convert_three_letters(variation) in s.lower():\n",
    "            sentenses.append(s)\n",
    "    if len(sentenses) == 0:\n",
    "        sentenses = sent_tokenize(text) \n",
    "    \n",
    "    return sentenses\n",
    "\n",
    "relevant_Text = []\n",
    "#for var, text in zip(total['Variation'], total['Text']):\n",
    "for var, text in zip(train['Variation'], train['Text']):  \n",
    "    sentenses = extract_relevant_sentences(text, var)                            \n",
    "    relevant_Text.append(''.join(sentenses))"
   ]
  },
  {
   "cell_type": "code",
   "execution_count": 99,
   "metadata": {
    "collapsed": true
   },
   "outputs": [],
   "source": [
    "#total['relevant_Text'] = pd.Series(relevant_Text)\n",
    "train['relevant_Text'] = pd.Series(relevant_Text)\n",
    "train['Class'] = train['Class'] - 1"
   ]
  },
  {
   "cell_type": "code",
   "execution_count": 105,
   "metadata": {
    "collapsed": true
   },
   "outputs": [],
   "source": [
    "MAX_NB_WORDS = 5000\n",
    "MAXLEN = 5000\n",
    "MAX_FEATURES = 200000\n",
    "BATCH_SIZE = 32\n",
    "\n",
    "tokenizer = Tokenizer(num_words=MAX_NB_WORDS)\n",
    "tokenizer.fit_on_texts(train['relevant_Text'])"
   ]
  },
  {
   "cell_type": "code",
   "execution_count": 106,
   "metadata": {},
   "outputs": [
    {
     "name": "stdout",
     "output_type": "stream",
     "text": [
      "Converting text to sequences...\n",
      "Preparing data...\n"
     ]
    }
   ],
   "source": [
    "\n",
    "print('Converting text to sequences...')\n",
    "sequences_train = tokenizer.texts_to_sequences(train['relevant_Text'])\n",
    "\n",
    "word_index = tokenizer.word_index\n",
    "\n",
    "print('Preparing data...')\n",
    "x = sequence.pad_sequences(sequences_train, maxlen=MAXLEN)\n",
    "y = np.array(train['Class'])\n",
    "\n",
    "y_binary = to_categorical(y)"
   ]
  },
  {
   "cell_type": "code",
   "execution_count": 107,
   "metadata": {
    "collapsed": true
   },
   "outputs": [],
   "source": [
    "X_train, X_test, y_train, y_test = train_test_split(x, y_binary, test_size=0.3)"
   ]
  },
  {
   "cell_type": "markdown",
   "metadata": {},
   "source": [
    "## LSTM recurrent neural networks model ##"
   ]
  },
  {
   "cell_type": "code",
   "execution_count": 103,
   "metadata": {
    "collapsed": true
   },
   "outputs": [],
   "source": [
    "import numpy\n",
    "from keras.models import Sequential\n",
    "from keras.layers import Dense\n",
    "from keras.layers import LSTM\n",
    "from keras.layers.embeddings import Embedding\n",
    "from keras.preprocessing import sequence\n",
    "from keras.layers import Dropout\n",
    "from keras.utils.np_utils import to_categorical\n",
    "from sklearn.model_selection import train_test_split"
   ]
  },
  {
   "cell_type": "code",
   "execution_count": 108,
   "metadata": {
    "scrolled": false
   },
   "outputs": [
    {
     "name": "stdout",
     "output_type": "stream",
     "text": [
      "_________________________________________________________________\n",
      "Layer (type)                 Output Shape              Param #   \n",
      "=================================================================\n",
      "embedding_6 (Embedding)      (None, None, 128)         25600000  \n",
      "_________________________________________________________________\n",
      "dropout_9 (Dropout)          (None, None, 128)         0         \n",
      "_________________________________________________________________\n",
      "lstm_5 (LSTM)                (None, 100)               91600     \n",
      "_________________________________________________________________\n",
      "dropout_10 (Dropout)         (None, 100)               0         \n",
      "_________________________________________________________________\n",
      "dense_5 (Dense)              (None, 9)                 909       \n",
      "=================================================================\n",
      "Total params: 25,692,509\n",
      "Trainable params: 25,692,509\n",
      "Non-trainable params: 0\n",
      "_________________________________________________________________\n",
      "None\n",
      "Epoch 1/30\n",
      "2324/2324 [==============================] - 222s - loss: 1.9869 - acc: 0.2784   \n",
      "Epoch 2/30\n",
      "2324/2324 [==============================] - 220s - loss: 1.8488 - acc: 0.2857   \n",
      "Epoch 3/30\n",
      "2324/2324 [==============================] - 220s - loss: 1.8190 - acc: 0.2857   \n",
      "Epoch 4/30\n",
      "2324/2324 [==============================] - 221s - loss: 1.7510 - acc: 0.2857   \n",
      "Epoch 5/30\n",
      "2324/2324 [==============================] - 220s - loss: 1.5306 - acc: 0.3107   \n",
      "Epoch 6/30\n",
      "2324/2324 [==============================] - 225s - loss: 1.2463 - acc: 0.5310   \n",
      "Epoch 7/30\n",
      "2324/2324 [==============================] - 218s - loss: 1.0102 - acc: 0.6188   \n",
      "Epoch 8/30\n",
      "2324/2324 [==============================] - 219s - loss: 0.8438 - acc: 0.6954   \n",
      "Epoch 9/30\n",
      "2324/2324 [==============================] - 216s - loss: 0.7442 - acc: 0.7448   \n",
      "Epoch 10/30\n",
      "2324/2324 [==============================] - 216s - loss: 0.6588 - acc: 0.7728   \n",
      "Epoch 11/30\n",
      "2324/2324 [==============================] - 224s - loss: 0.6208 - acc: 0.7775   \n",
      "Epoch 12/30\n",
      "2324/2324 [==============================] - 221s - loss: 0.5720 - acc: 0.7857   \n",
      "Epoch 13/30\n",
      "2324/2324 [==============================] - 220s - loss: 0.5476 - acc: 0.8055   \n",
      "Epoch 14/30\n",
      "2324/2324 [==============================] - 218s - loss: 0.5308 - acc: 0.8046   \n",
      "Epoch 15/30\n",
      "2324/2324 [==============================] - 218s - loss: 0.5046 - acc: 0.8111   \n",
      "Epoch 16/30\n",
      "2324/2324 [==============================] - 219s - loss: 0.4811 - acc: 0.8128   \n",
      "Epoch 17/30\n",
      "2324/2324 [==============================] - 225s - loss: 0.4680 - acc: 0.8201   \n",
      "Epoch 18/30\n",
      "2324/2324 [==============================] - 217s - loss: 0.4557 - acc: 0.8283   \n",
      "Epoch 19/30\n",
      "2324/2324 [==============================] - 217s - loss: 0.4445 - acc: 0.8253   \n",
      "Epoch 20/30\n",
      "2324/2324 [==============================] - 214s - loss: 0.4314 - acc: 0.8219   \n",
      "Epoch 21/30\n",
      "2324/2324 [==============================] - 217s - loss: 0.4275 - acc: 0.8236   \n",
      "Epoch 22/30\n",
      "2324/2324 [==============================] - 217s - loss: 0.4119 - acc: 0.8292   \n",
      "Epoch 23/30\n",
      "2324/2324 [==============================] - 212s - loss: 0.4122 - acc: 0.8266   \n",
      "Epoch 24/30\n",
      "2324/2324 [==============================] - 214s - loss: 0.4003 - acc: 0.8279   \n",
      "Epoch 25/30\n",
      "2324/2324 [==============================] - 211s - loss: 0.4057 - acc: 0.8266   \n",
      "Epoch 26/30\n",
      "2324/2324 [==============================] - 210s - loss: 0.4009 - acc: 0.8296   \n",
      "Epoch 27/30\n",
      "2324/2324 [==============================] - 212s - loss: 0.4061 - acc: 0.8206   \n",
      "Epoch 28/30\n",
      "2324/2324 [==============================] - 211s - loss: 0.3935 - acc: 0.8287   \n",
      "Epoch 29/30\n",
      "2324/2324 [==============================] - 212s - loss: 0.3880 - acc: 0.8249   \n",
      "Epoch 30/30\n",
      "2324/2324 [==============================] - 212s - loss: 0.3828 - acc: 0.8253   \n",
      "Accuracy: 59.68%\n"
     ]
    }
   ],
   "source": [
    "# Create the model\n",
    "\n",
    "embedding_length = 32\n",
    "top_words = 500\n",
    "model = Sequential()\n",
    "#model.add(Embedding(top_words, embedding_length, input_length=max_length))\n",
    "model.add(Embedding(MAX_FEATURES, 128))\n",
    "model.add(Dropout(0.2))\n",
    "model.add(LSTM(100))\n",
    "model.add(Dropout(0.2))\n",
    "model.add(Dense(9, activation='sigmoid'))\n",
    "model.compile(loss='categorical_crossentropy', optimizer='adam', metrics=['accuracy'] )\n",
    "print(model.summary())\n",
    "model.fit(X_train, y_train, nb_epoch=30, batch_size=64)\n",
    "\n",
    "#Final evaluation of the model\n",
    "scores = model.evaluate(X_test, y_test, verbose=0)\n",
    "print ('Accuracy: %.2f%%' % (scores[1]*100))"
   ]
  },
  {
   "cell_type": "code",
   "execution_count": 109,
   "metadata": {},
   "outputs": [
    {
     "name": "stdout",
     "output_type": "stream",
     "text": [
      "Saved model to disk\n"
     ]
    }
   ],
   "source": [
    "from keras.models import model_from_json\n",
    "# serialize model to JSON\n",
    "model_json = model.to_json()\n",
    "with open(\"model.json\", \"w\") as json_file:\n",
    "    json_file.write(model_json)\n",
    "# serialize weights to HDF5\n",
    "model.save_weights(\"model.h5\")\n",
    "print(\"Saved model to disk\")"
   ]
  },
  {
   "cell_type": "code",
   "execution_count": null,
   "metadata": {
    "collapsed": true
   },
   "outputs": [],
   "source": [
    "# load json and create model\n",
    "json_file = open('model.json', 'r')\n",
    "loaded_model_json = json_file.read()\n",
    "json_file.close()\n",
    "loaded_model = model_from_json(loaded_model_json)\n",
    "# load weights into new model\n",
    "loaded_model.load_weights(\"model.h5\")\n",
    "print(\"Loaded model from disk\")"
   ]
  },
  {
   "cell_type": "code",
   "execution_count": 110,
   "metadata": {
    "collapsed": true
   },
   "outputs": [],
   "source": [
    "#Prepare test data set\n",
    "relevant_Text = []\n",
    "#for var, text in zip(total['Variation'], total['Text']):\n",
    "for var, text in zip(test['Variation'], test['Text']):  \n",
    "    sentenses = extract_relevant_sentences(text, var)                            \n",
    "    relevant_Text.append(''.join(sentenses))"
   ]
  },
  {
   "cell_type": "code",
   "execution_count": 111,
   "metadata": {
    "collapsed": true
   },
   "outputs": [],
   "source": [
    "test['relevant_Text'] = pd.Series(relevant_Text)"
   ]
  },
  {
   "cell_type": "code",
   "execution_count": 112,
   "metadata": {
    "collapsed": true
   },
   "outputs": [],
   "source": [
    "tokenizer = Tokenizer(num_words=MAX_NB_WORDS)\n",
    "tokenizer.fit_on_texts(test['relevant_Text'])"
   ]
  },
  {
   "cell_type": "code",
   "execution_count": 113,
   "metadata": {},
   "outputs": [
    {
     "name": "stdout",
     "output_type": "stream",
     "text": [
      "Converting text to sequences...\n",
      "Preparing test data...\n"
     ]
    }
   ],
   "source": [
    "print('Converting text to sequences...')\n",
    "sequences_test = tokenizer.texts_to_sequences(test['relevant_Text'])\n",
    "\n",
    "word_index = tokenizer.word_index\n",
    "\n",
    "print('Preparing test data...')\n",
    "x_pred = sequence.pad_sequences(sequences_test, maxlen=MAXLEN)"
   ]
  },
  {
   "cell_type": "code",
   "execution_count": 115,
   "metadata": {
    "collapsed": true
   },
   "outputs": [],
   "source": [
    "# Predict for the test dataset\n",
    "prediction = model.predict(x_pred)"
   ]
  },
  {
   "cell_type": "code",
   "execution_count": 117,
   "metadata": {},
   "outputs": [
    {
     "data": {
      "text/plain": [
       "(5668, 9)"
      ]
     },
     "execution_count": 117,
     "metadata": {},
     "output_type": "execute_result"
    }
   ],
   "source": [
    "prediction.shape"
   ]
  },
  {
   "cell_type": "code",
   "execution_count": 120,
   "metadata": {},
   "outputs": [
    {
     "data": {
      "text/plain": [
       "numpy.ndarray"
      ]
     },
     "execution_count": 120,
     "metadata": {},
     "output_type": "execute_result"
    }
   ],
   "source": [
    "type(prediction)"
   ]
  },
  {
   "cell_type": "code",
   "execution_count": 124,
   "metadata": {
    "collapsed": true
   },
   "outputs": [],
   "source": [
    "sub = pd.DataFrame(prediction, columns=['class1', 'class2', 'class3', 'class4', 'class5', \\\n",
    "                                        'class6', 'class7', 'class8', 'class9'])\n",
    "\n",
    "sub = pd.concat([test_df['ID'], sub], axis=1)\n",
    "\n",
    "#sub.head()\n",
    "\n",
    "sub.to_csv('LSTM_model1.csv', index=False)"
   ]
  },
  {
   "cell_type": "code",
   "execution_count": 59,
   "metadata": {
    "collapsed": true
   },
   "outputs": [],
   "source": []
  }
 ],
 "metadata": {
  "kernelspec": {
   "display_name": "Python 3",
   "language": "python",
   "name": "python3"
  },
  "language_info": {
   "codemirror_mode": {
    "name": "ipython",
    "version": 3
   },
   "file_extension": ".py",
   "mimetype": "text/x-python",
   "name": "python",
   "nbconvert_exporter": "python",
   "pygments_lexer": "ipython3",
   "version": "3.6.1"
  }
 },
 "nbformat": 4,
 "nbformat_minor": 2
}
